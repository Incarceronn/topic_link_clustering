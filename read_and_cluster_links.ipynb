{
 "cells": [
  {
   "cell_type": "code",
   "execution_count": null,
   "id": "4a61ff91",
   "metadata": {},
   "outputs": [],
   "source": [
    "# Things to do:\n",
    "# how to scrape from a google docs with an API \n",
    "# Google docs plugin\n",
    "# using BERTopic for visualisation: classify which are the most useful visualisations\n",
    "# "
   ]
  },
  {
   "cell_type": "code",
   "execution_count": null,
   "id": "2c342bde",
   "metadata": {},
   "outputs": [],
   "source": [
    "# credits:\n",
    "# https://understandingdata.com/posts/how-to-extract-the-text-from-multiple-webpages-in-python/"
   ]
  },
  {
   "cell_type": "code",
   "execution_count": 1,
   "id": "5f1773b9",
   "metadata": {},
   "outputs": [
    {
     "name": "stdout",
     "output_type": "stream",
     "text": [
      "Requirement already satisfied: beautifulsoup4 in c:\\users\\samuel\\appdata\\roaming\\python\\python39\\site-packages (4.11.1)\n",
      "Requirement already satisfied: soupsieve>1.2 in c:\\users\\samuel\\appdata\\roaming\\python\\python39\\site-packages (from beautifulsoup4) (2.3.2.post1)\n"
     ]
    },
    {
     "name": "stderr",
     "output_type": "stream",
     "text": [
      "WARNING: Ignoring invalid distribution -rotobuf (c:\\users\\samuel\\appdata\\roaming\\python\\python39\\site-packages)\n",
      "WARNING: Ignoring invalid distribution -rotobuf (c:\\users\\samuel\\appdata\\roaming\\python\\python39\\site-packages)\n",
      "WARNING: Ignoring invalid distribution -ensorflow-intel (c:\\users\\samuel\\anaconda3\\lib\\site-packages)\n",
      "WARNING: Ignoring invalid distribution -lask (c:\\users\\samuel\\anaconda3\\lib\\site-packages)\n",
      "WARNING: Ignoring invalid distribution -ltk (c:\\users\\samuel\\anaconda3\\lib\\site-packages)\n",
      "WARNING: Ignoring invalid distribution -sort (c:\\users\\samuel\\anaconda3\\lib\\site-packages)\n",
      "WARNING: Ignoring invalid distribution -rotobuf (c:\\users\\samuel\\appdata\\roaming\\python\\python39\\site-packages)\n",
      "WARNING: Ignoring invalid distribution -ensorflow-intel (c:\\users\\samuel\\anaconda3\\lib\\site-packages)\n",
      "WARNING: Ignoring invalid distribution -lask (c:\\users\\samuel\\anaconda3\\lib\\site-packages)\n",
      "WARNING: Ignoring invalid distribution -ltk (c:\\users\\samuel\\anaconda3\\lib\\site-packages)\n",
      "WARNING: Ignoring invalid distribution -sort (c:\\users\\samuel\\anaconda3\\lib\\site-packages)\n",
      "WARNING: Ignoring invalid distribution -rotobuf (c:\\users\\samuel\\appdata\\roaming\\python\\python39\\site-packages)\n",
      "WARNING: Ignoring invalid distribution -rotobuf (c:\\users\\samuel\\appdata\\roaming\\python\\python39\\site-packages)\n",
      "WARNING: Ignoring invalid distribution -rotobuf (c:\\users\\samuel\\appdata\\roaming\\python\\python39\\site-packages)\n"
     ]
    },
    {
     "name": "stdout",
     "output_type": "stream",
     "text": [
      "Requirement already satisfied: numpy in c:\\users\\samuel\\anaconda3\\lib\\site-packages (1.21.5)\n"
     ]
    },
    {
     "name": "stderr",
     "output_type": "stream",
     "text": [
      "WARNING: Ignoring invalid distribution -rotobuf (c:\\users\\samuel\\appdata\\roaming\\python\\python39\\site-packages)\n",
      "WARNING: Ignoring invalid distribution -rotobuf (c:\\users\\samuel\\appdata\\roaming\\python\\python39\\site-packages)\n",
      "WARNING: Ignoring invalid distribution -ensorflow-intel (c:\\users\\samuel\\anaconda3\\lib\\site-packages)\n",
      "WARNING: Ignoring invalid distribution -lask (c:\\users\\samuel\\anaconda3\\lib\\site-packages)\n",
      "WARNING: Ignoring invalid distribution -ltk (c:\\users\\samuel\\anaconda3\\lib\\site-packages)\n",
      "WARNING: Ignoring invalid distribution -sort (c:\\users\\samuel\\anaconda3\\lib\\site-packages)\n",
      "WARNING: Ignoring invalid distribution -rotobuf (c:\\users\\samuel\\appdata\\roaming\\python\\python39\\site-packages)\n",
      "WARNING: Ignoring invalid distribution -ensorflow-intel (c:\\users\\samuel\\anaconda3\\lib\\site-packages)\n",
      "WARNING: Ignoring invalid distribution -lask (c:\\users\\samuel\\anaconda3\\lib\\site-packages)\n",
      "WARNING: Ignoring invalid distribution -ltk (c:\\users\\samuel\\anaconda3\\lib\\site-packages)\n",
      "WARNING: Ignoring invalid distribution -sort (c:\\users\\samuel\\anaconda3\\lib\\site-packages)\n",
      "WARNING: Ignoring invalid distribution -rotobuf (c:\\users\\samuel\\appdata\\roaming\\python\\python39\\site-packages)\n",
      "WARNING: Ignoring invalid distribution -rotobuf (c:\\users\\samuel\\appdata\\roaming\\python\\python39\\site-packages)\n",
      "WARNING: Ignoring invalid distribution -rotobuf (c:\\users\\samuel\\appdata\\roaming\\python\\python39\\site-packages)\n"
     ]
    },
    {
     "name": "stdout",
     "output_type": "stream",
     "text": [
      "Requirement already satisfied: requests in c:\\users\\samuel\\anaconda3\\lib\\site-packages (2.27.1)\n",
      "Requirement already satisfied: urllib3<1.27,>=1.21.1 in c:\\users\\samuel\\anaconda3\\lib\\site-packages (from requests) (1.26.13)\n",
      "Requirement already satisfied: certifi>=2017.4.17 in c:\\users\\samuel\\appdata\\roaming\\python\\python39\\site-packages (from requests) (2022.12.7)\n",
      "Requirement already satisfied: charset-normalizer~=2.0.0 in c:\\users\\samuel\\anaconda3\\lib\\site-packages (from requests) (2.0.4)\n",
      "Requirement already satisfied: idna<4,>=2.5 in c:\\users\\samuel\\anaconda3\\lib\\site-packages (from requests) (3.3)\n"
     ]
    },
    {
     "name": "stderr",
     "output_type": "stream",
     "text": [
      "WARNING: Ignoring invalid distribution -rotobuf (c:\\users\\samuel\\appdata\\roaming\\python\\python39\\site-packages)\n",
      "WARNING: Ignoring invalid distribution -rotobuf (c:\\users\\samuel\\appdata\\roaming\\python\\python39\\site-packages)\n",
      "WARNING: Ignoring invalid distribution -ensorflow-intel (c:\\users\\samuel\\anaconda3\\lib\\site-packages)\n",
      "WARNING: Ignoring invalid distribution -lask (c:\\users\\samuel\\anaconda3\\lib\\site-packages)\n",
      "WARNING: Ignoring invalid distribution -ltk (c:\\users\\samuel\\anaconda3\\lib\\site-packages)\n",
      "WARNING: Ignoring invalid distribution -sort (c:\\users\\samuel\\anaconda3\\lib\\site-packages)\n",
      "WARNING: Ignoring invalid distribution -rotobuf (c:\\users\\samuel\\appdata\\roaming\\python\\python39\\site-packages)\n",
      "WARNING: Ignoring invalid distribution -ensorflow-intel (c:\\users\\samuel\\anaconda3\\lib\\site-packages)\n",
      "WARNING: Ignoring invalid distribution -lask (c:\\users\\samuel\\anaconda3\\lib\\site-packages)\n",
      "WARNING: Ignoring invalid distribution -ltk (c:\\users\\samuel\\anaconda3\\lib\\site-packages)\n",
      "WARNING: Ignoring invalid distribution -sort (c:\\users\\samuel\\anaconda3\\lib\\site-packages)\n",
      "WARNING: Ignoring invalid distribution -rotobuf (c:\\users\\samuel\\appdata\\roaming\\python\\python39\\site-packages)\n",
      "WARNING: Ignoring invalid distribution -rotobuf (c:\\users\\samuel\\appdata\\roaming\\python\\python39\\site-packages)\n",
      "WARNING: Ignoring invalid distribution -rotobuf (c:\\users\\samuel\\appdata\\roaming\\python\\python39\\site-packages)\n"
     ]
    },
    {
     "name": "stdout",
     "output_type": "stream",
     "text": [
      "Requirement already satisfied: spacy in c:\\users\\samuel\\appdata\\roaming\\python\\python39\\site-packages (3.4.4)\n",
      "Requirement already satisfied: spacy-legacy<3.1.0,>=3.0.10 in c:\\users\\samuel\\appdata\\roaming\\python\\python39\\site-packages (from spacy) (3.0.11)\n",
      "Requirement already satisfied: spacy-loggers<2.0.0,>=1.0.0 in c:\\users\\samuel\\appdata\\roaming\\python\\python39\\site-packages (from spacy) (1.0.4)\n",
      "Requirement already satisfied: murmurhash<1.1.0,>=0.28.0 in c:\\users\\samuel\\appdata\\roaming\\python\\python39\\site-packages (from spacy) (1.0.9)\n",
      "Requirement already satisfied: cymem<2.1.0,>=2.0.2 in c:\\users\\samuel\\appdata\\roaming\\python\\python39\\site-packages (from spacy) (2.0.7)\n",
      "Requirement already satisfied: preshed<3.1.0,>=3.0.2 in c:\\users\\samuel\\appdata\\roaming\\python\\python39\\site-packages (from spacy) (3.0.8)\n",
      "Requirement already satisfied: thinc<8.2.0,>=8.1.0 in c:\\users\\samuel\\appdata\\roaming\\python\\python39\\site-packages (from spacy) (8.1.6)\n",
      "Requirement already satisfied: wasabi<1.1.0,>=0.9.1 in c:\\users\\samuel\\appdata\\roaming\\python\\python39\\site-packages (from spacy) (0.10.1)\n",
      "Requirement already satisfied: srsly<3.0.0,>=2.4.3 in c:\\users\\samuel\\appdata\\roaming\\python\\python39\\site-packages (from spacy) (2.4.5)\n",
      "Requirement already satisfied: catalogue<2.1.0,>=2.0.6 in c:\\users\\samuel\\appdata\\roaming\\python\\python39\\site-packages (from spacy) (2.0.8)\n",
      "Requirement already satisfied: typer<0.8.0,>=0.3.0 in c:\\users\\samuel\\appdata\\roaming\\python\\python39\\site-packages (from spacy) (0.7.0)\n",
      "Requirement already satisfied: pathy>=0.3.5 in c:\\users\\samuel\\appdata\\roaming\\python\\python39\\site-packages (from spacy) (0.10.1)\n",
      "Requirement already satisfied: smart-open<7.0.0,>=5.2.1 in c:\\users\\samuel\\appdata\\roaming\\python\\python39\\site-packages (from spacy) (6.3.0)\n",
      "Requirement already satisfied: tqdm<5.0.0,>=4.38.0 in c:\\users\\samuel\\anaconda3\\lib\\site-packages (from spacy) (4.45.0)\n",
      "Requirement already satisfied: numpy>=1.15.0 in c:\\users\\samuel\\anaconda3\\lib\\site-packages (from spacy) (1.21.5)\n",
      "Requirement already satisfied: requests<3.0.0,>=2.13.0 in c:\\users\\samuel\\anaconda3\\lib\\site-packages (from spacy) (2.27.1)\n",
      "Requirement already satisfied: pydantic!=1.8,!=1.8.1,<1.11.0,>=1.7.4 in c:\\users\\samuel\\appdata\\roaming\\python\\python39\\site-packages (from spacy) (1.10.4)\n",
      "Requirement already satisfied: jinja2 in c:\\users\\samuel\\appdata\\roaming\\python\\python39\\site-packages (from spacy) (3.1.2)\n",
      "Requirement already satisfied: setuptools in c:\\users\\samuel\\anaconda3\\lib\\site-packages (from spacy) (65.6.3)\n",
      "Requirement already satisfied: packaging>=20.0 in c:\\users\\samuel\\anaconda3\\lib\\site-packages (from spacy) (22.0)\n",
      "Requirement already satisfied: langcodes<4.0.0,>=3.2.0 in c:\\users\\samuel\\appdata\\roaming\\python\\python39\\site-packages (from spacy) (3.3.0)\n",
      "Requirement already satisfied: typing-extensions>=4.2.0 in c:\\users\\samuel\\anaconda3\\lib\\site-packages (from pydantic!=1.8,!=1.8.1,<1.11.0,>=1.7.4->spacy) (4.4.0)\n",
      "Requirement already satisfied: urllib3<1.27,>=1.21.1 in c:\\users\\samuel\\anaconda3\\lib\\site-packages (from requests<3.0.0,>=2.13.0->spacy) (1.26.13)\n",
      "Requirement already satisfied: certifi>=2017.4.17 in c:\\users\\samuel\\appdata\\roaming\\python\\python39\\site-packages (from requests<3.0.0,>=2.13.0->spacy) (2022.12.7)\n",
      "Requirement already satisfied: charset-normalizer~=2.0.0 in c:\\users\\samuel\\anaconda3\\lib\\site-packages (from requests<3.0.0,>=2.13.0->spacy) (2.0.4)\n",
      "Requirement already satisfied: idna<4,>=2.5 in c:\\users\\samuel\\anaconda3\\lib\\site-packages (from requests<3.0.0,>=2.13.0->spacy) (3.3)\n",
      "Requirement already satisfied: blis<0.8.0,>=0.7.8 in c:\\users\\samuel\\appdata\\roaming\\python\\python39\\site-packages (from thinc<8.2.0,>=8.1.0->spacy) (0.7.9)\n",
      "Requirement already satisfied: confection<1.0.0,>=0.0.1 in c:\\users\\samuel\\appdata\\roaming\\python\\python39\\site-packages (from thinc<8.2.0,>=8.1.0->spacy) (0.0.3)\n",
      "Requirement already satisfied: click<9.0.0,>=7.1.1 in c:\\users\\samuel\\appdata\\roaming\\python\\python39\\site-packages (from typer<0.8.0,>=0.3.0->spacy) (8.1.3)\n",
      "Requirement already satisfied: MarkupSafe>=2.0 in c:\\users\\samuel\\appdata\\roaming\\python\\python39\\site-packages (from jinja2->spacy) (2.1.1)\n",
      "Requirement already satisfied: colorama in c:\\users\\samuel\\appdata\\roaming\\python\\python39\\site-packages (from click<9.0.0,>=7.1.1->typer<0.8.0,>=0.3.0->spacy) (0.4.6)\n"
     ]
    },
    {
     "name": "stderr",
     "output_type": "stream",
     "text": [
      "WARNING: Ignoring invalid distribution -rotobuf (c:\\users\\samuel\\appdata\\roaming\\python\\python39\\site-packages)\n",
      "WARNING: Ignoring invalid distribution -rotobuf (c:\\users\\samuel\\appdata\\roaming\\python\\python39\\site-packages)\n",
      "WARNING: Ignoring invalid distribution -ensorflow-intel (c:\\users\\samuel\\anaconda3\\lib\\site-packages)\n",
      "WARNING: Ignoring invalid distribution -lask (c:\\users\\samuel\\anaconda3\\lib\\site-packages)\n",
      "WARNING: Ignoring invalid distribution -ltk (c:\\users\\samuel\\anaconda3\\lib\\site-packages)\n",
      "WARNING: Ignoring invalid distribution -sort (c:\\users\\samuel\\anaconda3\\lib\\site-packages)\n",
      "WARNING: Ignoring invalid distribution -rotobuf (c:\\users\\samuel\\appdata\\roaming\\python\\python39\\site-packages)\n",
      "WARNING: Ignoring invalid distribution -ensorflow-intel (c:\\users\\samuel\\anaconda3\\lib\\site-packages)\n",
      "WARNING: Ignoring invalid distribution -lask (c:\\users\\samuel\\anaconda3\\lib\\site-packages)\n",
      "WARNING: Ignoring invalid distribution -ltk (c:\\users\\samuel\\anaconda3\\lib\\site-packages)\n",
      "WARNING: Ignoring invalid distribution -sort (c:\\users\\samuel\\anaconda3\\lib\\site-packages)\n",
      "WARNING: Ignoring invalid distribution -rotobuf (c:\\users\\samuel\\appdata\\roaming\\python\\python39\\site-packages)\n",
      "WARNING: Ignoring invalid distribution -rotobuf (c:\\users\\samuel\\appdata\\roaming\\python\\python39\\site-packages)\n",
      "WARNING: Ignoring invalid distribution -rotobuf (c:\\users\\samuel\\appdata\\roaming\\python\\python39\\site-packages)\n"
     ]
    },
    {
     "name": "stdout",
     "output_type": "stream",
     "text": [
      "Collecting trafilatura\n",
      "  Downloading trafilatura-1.6.1-py3-none-any.whl (1.0 MB)\n",
      "                                              0.0/1.0 MB ? eta -:--:--\n",
      "     -                                        0.0/1.0 MB 640.0 kB/s eta 0:00:02\n",
      "     ---                                      0.1/1.0 MB 871.5 kB/s eta 0:00:02\n",
      "     --------                                 0.2/1.0 MB 1.7 MB/s eta 0:00:01\n",
      "     ---------------                          0.4/1.0 MB 2.1 MB/s eta 0:00:01\n",
      "     ---------------------                    0.5/1.0 MB 2.3 MB/s eta 0:00:01\n",
      "     --------------------------               0.7/1.0 MB 2.4 MB/s eta 0:00:01\n",
      "     -------------------------------          0.8/1.0 MB 2.6 MB/s eta 0:00:01\n",
      "     ------------------------------------     1.0/1.0 MB 2.5 MB/s eta 0:00:01\n",
      "     ---------------------------------------- 1.0/1.0 MB 2.6 MB/s eta 0:00:00\n",
      "Requirement already satisfied: certifi in c:\\users\\samuel\\appdata\\roaming\\python\\python39\\site-packages (from trafilatura) (2022.12.7)\n",
      "Collecting courlan>=0.9.3 (from trafilatura)\n",
      "  Downloading courlan-0.9.3-py3-none-any.whl (41 kB)\n",
      "                                              0.0/41.9 kB ? eta -:--:--\n",
      "     ---------------------------------------- 41.9/41.9 kB 2.0 MB/s eta 0:00:00\n",
      "Collecting htmldate>=1.4.3 (from trafilatura)\n",
      "  Downloading htmldate-1.4.3-py3-none-any.whl (41 kB)\n",
      "                                              0.0/41.0 kB ? eta -:--:--\n",
      "     ---------------------------------------- 41.0/41.0 kB ? eta 0:00:00\n",
      "Collecting justext>=3.0.0 (from trafilatura)\n",
      "  Downloading jusText-3.0.0-py2.py3-none-any.whl (837 kB)\n",
      "                                              0.0/837.8 kB ? eta -:--:--\n",
      "     -----                                  122.9/837.8 kB 3.6 MB/s eta 0:00:01\n",
      "     ------------                           276.5/837.8 kB 3.4 MB/s eta 0:00:01\n",
      "     ------------------                     409.6/837.8 kB 3.2 MB/s eta 0:00:01\n",
      "     ---------------------------            614.4/837.8 kB 3.5 MB/s eta 0:00:01\n",
      "     -------------------------------------  829.4/837.8 kB 3.7 MB/s eta 0:00:01\n",
      "     -------------------------------------- 837.8/837.8 kB 3.8 MB/s eta 0:00:00\n",
      "Collecting lxml>=4.9.2 (from trafilatura)\n",
      "  Downloading lxml-4.9.3-cp39-cp39-win_amd64.whl (3.9 MB)\n",
      "                                              0.0/3.9 MB ? eta -:--:--\n",
      "     -                                        0.1/3.9 MB 4.3 MB/s eta 0:00:01\n",
      "     ---                                      0.4/3.9 MB 4.6 MB/s eta 0:00:01\n",
      "     -----                                    0.6/3.9 MB 4.6 MB/s eta 0:00:01\n",
      "     --------                                 0.8/3.9 MB 4.9 MB/s eta 0:00:01\n",
      "     ----------                               1.0/3.9 MB 5.1 MB/s eta 0:00:01\n",
      "     -------------                            1.3/3.9 MB 5.0 MB/s eta 0:00:01\n",
      "     ---------------                          1.6/3.9 MB 5.0 MB/s eta 0:00:01\n",
      "     -----------------                        1.7/3.9 MB 5.2 MB/s eta 0:00:01\n",
      "     -----------------                        1.7/3.9 MB 5.2 MB/s eta 0:00:01\n",
      "     --------------------                     2.0/3.9 MB 4.4 MB/s eta 0:00:01\n",
      "     --------------------                     2.0/3.9 MB 4.5 MB/s eta 0:00:01\n",
      "     ---------------------                    2.1/3.9 MB 3.9 MB/s eta 0:00:01\n",
      "     ---------------------                    2.1/3.9 MB 3.9 MB/s eta 0:00:01\n",
      "     ------------------------                 2.4/3.9 MB 3.7 MB/s eta 0:00:01\n",
      "     -------------------------                2.5/3.9 MB 3.7 MB/s eta 0:00:01\n",
      "     -------------------------                2.5/3.9 MB 3.5 MB/s eta 0:00:01\n",
      "     ---------------------------              2.6/3.9 MB 3.4 MB/s eta 0:00:01\n",
      "     ---------------------------              2.7/3.9 MB 3.3 MB/s eta 0:00:01\n",
      "     -------------------------------          3.1/3.9 MB 3.5 MB/s eta 0:00:01\n",
      "     ---------------------------------        3.2/3.9 MB 3.5 MB/s eta 0:00:01\n",
      "     ------------------------------------     3.6/3.9 MB 3.7 MB/s eta 0:00:01\n",
      "     --------------------------------------   3.8/3.9 MB 3.7 MB/s eta 0:00:01\n",
      "     ---------------------------------------- 3.9/3.9 MB 3.7 MB/s eta 0:00:00\n",
      "Collecting charset-normalizer>=3.1.0 (from trafilatura)\n",
      "  Downloading charset_normalizer-3.2.0-cp39-cp39-win_amd64.whl (96 kB)\n",
      "                                              0.0/96.9 kB ? eta -:--:--\n",
      "     --------------------------------------   92.2/96.9 kB 1.7 MB/s eta 0:00:01\n",
      "     ---------------------------------------- 96.9/96.9 kB 1.8 MB/s eta 0:00:00\n",
      "Requirement already satisfied: urllib3<3,>=1.26 in c:\\users\\samuel\\anaconda3\\lib\\site-packages (from trafilatura) (1.26.13)\n",
      "Requirement already satisfied: langcodes>=3.3.0 in c:\\users\\samuel\\appdata\\roaming\\python\\python39\\site-packages (from courlan>=0.9.3->trafilatura) (3.3.0)\n",
      "Collecting tld>=0.13 (from courlan>=0.9.3->trafilatura)\n",
      "  Downloading tld-0.13-py2.py3-none-any.whl (263 kB)\n",
      "                                              0.0/263.8 kB ? eta -:--:--\n",
      "     ------------                            81.9/263.8 kB 4.5 MB/s eta 0:00:01\n",
      "     -------------                           92.2/263.8 kB 2.6 MB/s eta 0:00:01\n",
      "     -------------------------------------- 263.8/263.8 kB 2.3 MB/s eta 0:00:00\n",
      "Collecting dateparser>=1.1.2 (from htmldate>=1.4.3->trafilatura)\n",
      "  Downloading dateparser-1.1.8-py2.py3-none-any.whl (293 kB)\n",
      "                                              0.0/293.8 kB ? eta -:--:--\n",
      "     --------------                         112.6/293.8 kB 6.8 MB/s eta 0:00:01\n",
      "     -------------------------------------- 293.8/293.8 kB 6.0 MB/s eta 0:00:00\n",
      "Requirement already satisfied: python-dateutil>=2.8.2 in c:\\users\\samuel\\appdata\\roaming\\python\\python39\\site-packages (from htmldate>=1.4.3->trafilatura) (2.8.2)\n",
      "Requirement already satisfied: pytz in c:\\users\\samuel\\appdata\\roaming\\python\\python39\\site-packages (from dateparser>=1.1.2->htmldate>=1.4.3->trafilatura) (2022.7)\n",
      "Requirement already satisfied: regex!=2019.02.19,!=2021.8.27 in c:\\users\\samuel\\anaconda3\\lib\\site-packages (from dateparser>=1.1.2->htmldate>=1.4.3->trafilatura) (2022.10.31)\n",
      "Requirement already satisfied: tzlocal in c:\\users\\samuel\\anaconda3\\lib\\site-packages (from dateparser>=1.1.2->htmldate>=1.4.3->trafilatura) (4.2)\n",
      "Requirement already satisfied: six>=1.5 in c:\\users\\samuel\\anaconda3\\lib\\site-packages (from python-dateutil>=2.8.2->htmldate>=1.4.3->trafilatura) (1.15.0)\n",
      "Requirement already satisfied: pytz-deprecation-shim in c:\\users\\samuel\\anaconda3\\lib\\site-packages (from tzlocal->dateparser>=1.1.2->htmldate>=1.4.3->trafilatura) (0.1.0.post0)\n",
      "Requirement already satisfied: tzdata in c:\\users\\samuel\\anaconda3\\lib\\site-packages (from tzlocal->dateparser>=1.1.2->htmldate>=1.4.3->trafilatura) (2022.7)\n",
      "Installing collected packages: tld, lxml, charset-normalizer, justext, courlan, dateparser, htmldate, trafilatura\n",
      "  Attempting uninstall: lxml\n",
      "    Found existing installation: lxml 4.9.1\n",
      "    Uninstalling lxml-4.9.1:\n",
      "      Successfully uninstalled lxml-4.9.1\n",
      "  Attempting uninstall: charset-normalizer\n",
      "    Found existing installation: charset-normalizer 2.0.4\n",
      "    Uninstalling charset-normalizer-2.0.4:\n",
      "      Successfully uninstalled charset-normalizer-2.0.4\n",
      "Successfully installed charset-normalizer-2.1.1 courlan-0.9.3 dateparser-1.1.8 htmldate-1.4.3 justext-3.0.0 lxml-4.9.3 tld-0.13 trafilatura-1.6.1\n"
     ]
    },
    {
     "name": "stderr",
     "output_type": "stream",
     "text": [
      "WARNING: Ignoring invalid distribution -rotobuf (c:\\users\\samuel\\appdata\\roaming\\python\\python39\\site-packages)\n",
      "WARNING: Ignoring invalid distribution -rotobuf (c:\\users\\samuel\\appdata\\roaming\\python\\python39\\site-packages)\n",
      "WARNING: Ignoring invalid distribution -ensorflow-intel (c:\\users\\samuel\\anaconda3\\lib\\site-packages)\n",
      "WARNING: Ignoring invalid distribution -lask (c:\\users\\samuel\\anaconda3\\lib\\site-packages)\n",
      "WARNING: Ignoring invalid distribution -ltk (c:\\users\\samuel\\anaconda3\\lib\\site-packages)\n",
      "WARNING: Ignoring invalid distribution -sort (c:\\users\\samuel\\anaconda3\\lib\\site-packages)\n",
      "WARNING: Ignoring invalid distribution -rotobuf (c:\\users\\samuel\\appdata\\roaming\\python\\python39\\site-packages)\n",
      "WARNING: Ignoring invalid distribution -ensorflow-intel (c:\\users\\samuel\\anaconda3\\lib\\site-packages)\n",
      "WARNING: Ignoring invalid distribution -lask (c:\\users\\samuel\\anaconda3\\lib\\site-packages)\n",
      "WARNING: Ignoring invalid distribution -ltk (c:\\users\\samuel\\anaconda3\\lib\\site-packages)\n",
      "WARNING: Ignoring invalid distribution -sort (c:\\users\\samuel\\anaconda3\\lib\\site-packages)\n",
      "    WARNING: Ignoring invalid distribution -rotobuf (c:\\users\\samuel\\appdata\\roaming\\python\\python39\\site-packages)\n",
      "    WARNING: Ignoring invalid distribution -rotobuf (c:\\users\\samuel\\appdata\\roaming\\python\\python39\\site-packages)\n",
      "ERROR: pip's dependency resolver does not currently take into account all the packages that are installed. This behaviour is the source of the following dependency conflicts.\n",
      "requests 2.27.1 requires charset-normalizer~=2.0.0; python_version >= \"3\", but you have charset-normalizer 3.2.0 which is incompatible.\n",
      "stnet 1.0 requires numpy~=1.16.1, but you have numpy 1.21.5 which is incompatible.\n",
      "stnet 1.0 requires pandas~=0.24.1, but you have pandas 1.5.3 which is incompatible.\n",
      "stnet 1.0 requires scikit-image~=0.14.0, but you have scikit-image 0.19.3 which is incompatible.\n",
      "stnet 1.0 requires scipy~=1.2.1, but you have scipy 1.9.3 which is incompatible.\n",
      "stnet 1.0 requires torch~=1.0.0, but you have torch 1.12.1 which is incompatible.\n",
      "stnet 1.0 requires torchvision~=0.2.1, but you have torchvision 0.13.1+cu113 which is incompatible.\n",
      "stnet 1.0 requires tqdm~=4.26.0, but you have tqdm 4.45.0 which is incompatible.\n",
      "WARNING: Ignoring invalid distribution -rotobuf (c:\\users\\samuel\\appdata\\roaming\\python\\python39\\site-packages)\n",
      "WARNING: Ignoring invalid distribution -rotobuf (c:\\users\\samuel\\appdata\\roaming\\python\\python39\\site-packages)\n",
      "WARNING: Ignoring invalid distribution -rotobuf (c:\\users\\samuel\\appdata\\roaming\\python\\python39\\site-packages)\n"
     ]
    }
   ],
   "source": [
    "!pip install beautifulsoup4\n",
    "!pip install numpy\n",
    "!pip install requests\n",
    "!pip install spacy\n",
    "!pip install trafilatura"
   ]
  },
  {
   "cell_type": "code",
   "execution_count": 4,
   "id": "65555fec",
   "metadata": {},
   "outputs": [],
   "source": [
    "from bs4 import BeautifulSoup\n",
    "import json\n",
    "import numpy as np\n",
    "import requests\n",
    "from requests.models import MissingSchema\n",
    "import spacy\n",
    "import trafilatura"
   ]
  },
  {
   "cell_type": "code",
   "execution_count": 5,
   "id": "efe67b88",
   "metadata": {},
   "outputs": [],
   "source": [
    "urls = [\"https://arxiv.org/abs/2304.06131\",\"https://github.com/facebookresearch/segment-anything\", \"https://github.com/JerryX1110/awesome-segment-anything-extensions\", \n",
    "\"https://arxiv.org/abs/2304.06718\", \"https://github.com/UX-Decoder/Segment-Everything-Everywhere-All-At-Once\" ]"
   ]
  },
  {
   "cell_type": "code",
   "execution_count": 6,
   "id": "382c3fb3",
   "metadata": {},
   "outputs": [],
   "source": [
    "data = {}\n",
    "\n",
    "for url in urls:\n",
    "    # 1. Obtain the response:\n",
    "    resp = requests.get(url)\n",
    "    \n",
    "    # 2. If the response content is 200 - Status Ok, Save The HTML Content:\n",
    "    if resp.status_code == 200:\n",
    "        data[url] = resp.text"
   ]
  },
  {
   "cell_type": "code",
   "execution_count": 11,
   "id": "60a71acf",
   "metadata": {},
   "outputs": [],
   "source": [
    "def beautifulsoup_extract_text_fallback(response_content):\n",
    "    \n",
    "    '''\n",
    "    This is a fallback function, so that we can always return a value for text content.\n",
    "    Even for when both Trafilatura and BeautifulSoup are unable to extract the text from a \n",
    "    single URL.\n",
    "    '''\n",
    "    \n",
    "    # Create the beautifulsoup object:\n",
    "    soup = BeautifulSoup(response_content, 'html.parser')\n",
    "    \n",
    "    # Finding the text:\n",
    "    text = soup.find_all(text=True)\n",
    "    \n",
    "    # Remove unwanted tag elements:\n",
    "    cleaned_text = ''\n",
    "    blacklist = [\n",
    "        '[document]',\n",
    "        'noscript',\n",
    "        'header',\n",
    "        'html',\n",
    "        'meta',\n",
    "        'head', \n",
    "        'input',\n",
    "        'script',\n",
    "        'style',]\n",
    "\n",
    "    # Then we will loop over every item in the extract text and make sure that the beautifulsoup4 tag\n",
    "    # is NOT in the blacklist\n",
    "    for item in text:\n",
    "        if item.parent.name not in blacklist:\n",
    "            cleaned_text += '{} '.format(item)\n",
    "            \n",
    "    # Remove any tab separation and strip the text:\n",
    "    cleaned_text = cleaned_text.replace('\\t', '')\n",
    "    return cleaned_text.strip()\n",
    "    \n",
    "\n",
    "def extract_text_from_single_web_page(url):\n",
    "    \n",
    "    downloaded_url = trafilatura.fetch_url(url)\n",
    "    try:\n",
    "        a = trafilatura.extract(downloaded_url, output_format ='json', with_metadata=True, include_comments = False,\n",
    "                            date_extraction_params={'extensive_search': True, 'original_date': True})\n",
    "    except AttributeError:\n",
    "        a = trafilatura.extract(downloaded_url, output_format = 'json', with_metadata=True,\n",
    "                            date_extraction_params={'extensive_search': True, 'original_date': True})\n",
    "    if a:\n",
    "        json_output = json.loads(a)\n",
    "        return json_output['text']\n",
    "    else:\n",
    "        try:\n",
    "            resp = requests.get(url)\n",
    "            # We will only extract the text from successful requests:\n",
    "            if resp.status_code == 200:\n",
    "                return beautifulsoup_extract_text_fallback(resp.content)\n",
    "            else:\n",
    "                # This line will handle for any failures in both the Trafilature and BeautifulSoup4 functions:\n",
    "                return np.nan\n",
    "        # Handling for any URLs that don't have the correct protocol\n",
    "        except MissingSchema:\n",
    "            return np.nan"
   ]
  },
  {
   "cell_type": "code",
   "execution_count": 12,
   "id": "d3751f97",
   "metadata": {},
   "outputs": [
    {
     "name": "stdout",
     "output_type": "stream",
     "text": [
      "Computer Science > Computer Vision and Pattern Recognition\n",
      "[Submitted on 12 Apr 2023]\n",
      "Title:UniverSeg: Universal Medical Image SegmentationDownload PDF\n",
      "Abstract: While deep learning models have become the predominant method for medical image segmentation, they are typically not capable of generalizing to unseen segmentation tasks involving new anatomies, image modalities, or labels. Given a new segmentation task, researchers generally have to train or fine-tune models, which is time-consuming and poses a substantial barrier for clinical researchers, who often lack the resources and expertise to train neural networks. We present UniverSeg, a method for solving unseen medical segmentation tasks without additional training. Given a query image and example set of image-label pairs that define a new segmentation task, UniverSeg employs a new Cross-Block mechanism to produce accurate segmentation maps without the need for additional training. To achieve generalization to new tasks, we have gathered and standardized a collection of 53 open-access medical segmentation datasets with over 22,000 scans, which we refer to as MegaMedical. We used this collection to train UniverSeg on a diverse set of anatomies and imaging modalities. We demonstrate that UniverSeg substantially outperforms several related methods on unseen tasks, and thoroughly analyze and draw insights about important aspects of the proposed system. The UniverSeg source code and model weights are freely available at this https URL\n",
      "Submission historyFrom: Jose Javier Gonzalez Ortiz [view email]\n",
      "[v1] Wed, 12 Apr 2023 19:36:46 UTC (7,295 KB)\n",
      "Full-text links:\n",
      "Download:\n",
      "References & Citations\n",
      "a Loading...\n",
      "Bibliographic and Citation Tools\n",
      "Bibliographic Explorer (What is the Explorer?)\n",
      "Litmaps (What is Litmaps?)\n",
      "scite Smart Citations (What are Smart Citations?)\n",
      "Code, Data and Media Associated with this Article\n",
      "CatalyzeX Code Finder for Papers (What is CatalyzeX?)\n",
      "DagsHub (What is DagsHub?)\n",
      "Papers with Code (What is Papers with Code?)\n",
      "ScienceCast (What is ScienceCast?)\n",
      "Demos\n",
      "Replicate (What is Replicate?)\n",
      "Hugging Face Spaces (What is Spaces?)\n",
      "Recommenders and Search Tools\n",
      "Influence Flower (What are Influence Flowers?)\n",
      "Connected Papers (What is Connected Papers?)\n",
      "CORE Recommender (What is CORE?)\n",
      "arXivLabs: experimental projects with community collaborators\n",
      "arXivLabs is a framework that allows collaborators to develop and share new arXiv features directly on our website.\n",
      "Both individuals and organizations that work with arXivLabs have embraced and accepted our values of openness, community, excellence, and user data privacy. arXiv is committed to these values and only works with partners that adhere to them.\n",
      "Have an idea for a project that will add value for arXiv's community? Learn more about arXivLabs.\n"
     ]
    }
   ],
   "source": [
    "single_url = urls[0]\n",
    "text = extract_text_from_single_web_page(url=single_url)\n",
    "print(text)"
   ]
  },
  {
   "cell_type": "code",
   "execution_count": 13,
   "id": "92925513",
   "metadata": {},
   "outputs": [
    {
     "name": "stdout",
     "output_type": "stream",
     "text": [
      "Segment Anything\n",
      "Alexander Kirillov, Eric Mintun, Nikhila Ravi, Hanzi Mao, Chloe Rolland, Laura Gustafson, Tete Xiao, Spencer Whitehead, Alex Berg, Wan-Yen Lo, Piotr Dollar, Ross Girshick\n",
      "[\n",
      "Paper] [\n",
      "Project] [\n",
      "Demo] [\n",
      "Dataset] [\n",
      "Blog] [\n",
      "BibTeX]\n",
      "The Segment Anything Model (SAM) produces high quality object masks from input prompts such as points or boxes, and it can be used to generate masks for all objects in an image. It has been trained on a dataset of 11 million images and 1.1 billion masks, and has strong zero-shot performance on a variety of segmentation tasks.\n",
      "Installation\n",
      "The code requires\n",
      "python>=3.8, as well as\n",
      "pytorch>=1.7 and\n",
      "torchvision>=0.8. Please follow the instructions here to install both PyTorch and TorchVision dependencies. Installing both PyTorch and TorchVision with CUDA support is strongly recommended.\n",
      "Install Segment Anything:\n",
      "pip install git+https://github.com/facebookresearch/segment-anything.git\n",
      "or clone the repository locally and install with\n",
      "git clone git@github.com:facebookresearch/segment-anything.git cd segment-anything; pip install -e .\n",
      "The following optional dependencies are necessary for mask post-processing, saving masks in COCO format, the example notebooks, and exporting the model in ONNX format.\n",
      "jupyter is also required to run the example notebooks.\n",
      "pip install opencv-python pycocotools matplotlib onnxruntime onnx\n",
      "Getting Started\n",
      "First download a model checkpoint. Then the model can be used in just a few lines to get masks from a given prompt:\n",
      "from segment_anything import SamPredictor, sam_model_registry sam = sam_model_registry[\"<model_type>\"](checkpoint=\"<path/to/checkpoint>\") predictor = SamPredictor(sam) predictor.set_image(<your_image>) masks, _, _ = predictor.predict(<input_prompts>)\n",
      "or generate masks for an entire image:\n",
      "from segment_anything import SamAutomaticMaskGenerator, sam_model_registry sam = sam_model_registry[\"<model_type>\"](checkpoint=\"<path/to/checkpoint>\") mask_generator = SamAutomaticMaskGenerator(sam) masks = mask_generator.generate(<your_image>)\n",
      "Additionally, masks can be generated for images from the command line:\n",
      "python scripts/amg.py --checkpoint <path/to/checkpoint> --model-type <model_type> --input <image_or_folder> --output <path/to/output>\n",
      "See the examples notebooks on using SAM with prompts and automatically generating masks for more details.\n",
      "ONNX Export\n",
      "SAM's lightweight mask decoder can be exported to ONNX format so that it can be run in any environment that supports ONNX runtime, such as in-browser as showcased in the demo. Export the model with\n",
      "python scripts/export_onnx_model.py --checkpoint <path/to/checkpoint> --model-type <model_type> --output <path/to/output>\n",
      "See the example notebook for details on how to combine image preprocessing via SAM's backbone with mask prediction using the ONNX model. It is recommended to use the latest stable version of PyTorch for ONNX export.\n",
      "Web demo\n",
      "The\n",
      "demo/ folder has a simple one page React app which shows how to run mask prediction with the exported ONNX model in a web browser with multithreading. Please see\n",
      "demo/README.md for more details.\n",
      "Model Checkpoints\n",
      "Three model versions of the model are available with different backbone sizes. These models can be instantiated by running\n",
      "from segment_anything import sam_model_registry sam = sam_model_registry[\"<model_type>\"](checkpoint=\"<path/to/checkpoint>\")\n",
      "Click the links below to download the checkpoint for the corresponding model type.\n",
      "defaultor\n",
      "vit_h: ViT-H SAM model.\n",
      "vit_l: ViT-L SAM model.\n",
      "vit_b: ViT-B SAM model.\n",
      "Dataset\n",
      "See here for an overview of the datastet. The dataset can be downloaded here. By downloading the datasets you agree that you have read and accepted the terms of the SA-1B Dataset Research License.\n",
      "We save masks per image as a json file. It can be loaded as a dictionary in python in the below format.\n",
      "{ \"image\" : image_info, \"annotations\" : [annotation], } image_info { \"image_id\" : int, # Image id \"width\" : int, # Image width \"height\" : int, # Image height \"file_name\" : str, # Image filename } annotation { \"id\" : int, # Annotation id \"segmentation\" : dict, # Mask saved in COCO RLE format. \"bbox\" : [x, y, w, h], # The box around the mask, in XYWH format \"area\" : int, # The area in pixels of the mask \"predicted_iou\" : float, # The model's own prediction of the mask's quality \"stability_score\" : float, # A measure of the mask's quality \"crop_box\" : [x, y, w, h], # The crop of the image used to generate the mask, in XYWH format \"point_coords\" : [[x, y]], # The point coordinates input to the model to generate the mask }\n",
      "Image ids can be found in sa_images_ids.txt which can be downloaded using the above link as well.\n",
      "To decode a mask in COCO RLE format into binary:\n",
      "from pycocotools import mask as mask_utils mask = mask_utils.decode(annotation[\"segmentation\"])\n",
      "See here for more instructions to manipulate masks stored in RLE format.\n",
      "License\n",
      "The model is licensed under the Apache 2.0 license.\n",
      "Contributing\n",
      "See contributing and the code of conduct.\n",
      "Contributors\n",
      "The Segment Anything project was made possible with the help of many contributors (alphabetical):\n",
      "Aaron Adcock, Vaibhav Aggarwal, Morteza Behrooz, Cheng-Yang Fu, Ashley Gabriel, Ahuva Goldstand, Allen Goodman, Sumanth Gurram, Jiabo Hu, Somya Jain, Devansh Kukreja, Robert Kuo, Joshua Lane, Yanghao Li, Lilian Luong, Jitendra Malik, Mallika Malhotra, William Ngan, Omkar Parkhi, Nikhil Raina, Dirk Rowe, Neil Sejoor, Vanessa Stark, Bala Varadarajan, Bram Wasti, Zachary Winstrom\n",
      "Citing Segment Anything\n",
      "If you use SAM or SA-1B in your research, please use the following BibTeX entry.\n",
      "@article{kirillov2023segany, title={Segment Anything}, author={Kirillov, Alexander and Mintun, Eric and Ravi, Nikhila and Mao, Hanzi and Rolland, Chloe and Gustafson, Laura and Xiao, Tete and Whitehead, Spencer and Berg, Alexander C. and Lo, Wan-Yen and Doll{\\'a}r, Piotr and Girshick, Ross}, journal={arXiv:2304.02643}, year={2023} }\n"
     ]
    }
   ],
   "source": [
    "urls = urls + ['fake_url']\n",
    "\n",
    "text_content = [extract_text_from_single_web_page(url) for url in urls]\n",
    "\n",
    "print(text_content[1])"
   ]
  },
  {
   "cell_type": "code",
   "execution_count": 14,
   "id": "78bfdc7d",
   "metadata": {},
   "outputs": [
    {
     "name": "stdout",
     "output_type": "stream",
     "text": [
      "[nan]\n"
     ]
    }
   ],
   "source": [
    "print(text_content[-1:])"
   ]
  },
  {
   "cell_type": "code",
   "execution_count": 15,
   "id": "09ca3a2e",
   "metadata": {},
   "outputs": [],
   "source": [
    "cleaned_textual_content = [text for text in text_content if str(text) != 'nan']\n"
   ]
  },
  {
   "cell_type": "code",
   "execution_count": 16,
   "id": "f45a2ade",
   "metadata": {},
   "outputs": [
    {
     "ename": "OSError",
     "evalue": "[E050] Can't find model 'en_core_web_sm'. It doesn't seem to be a Python package or a valid path to a data directory.",
     "output_type": "error",
     "traceback": [
      "\u001b[1;31m---------------------------------------------------------------------------\u001b[0m",
      "\u001b[1;31mOSError\u001b[0m                                   Traceback (most recent call last)",
      "Cell \u001b[1;32mIn[16], line 1\u001b[0m\n\u001b[1;32m----> 1\u001b[0m nlp \u001b[38;5;241m=\u001b[39m \u001b[43mspacy\u001b[49m\u001b[38;5;241;43m.\u001b[39;49m\u001b[43mload\u001b[49m\u001b[43m(\u001b[49m\u001b[38;5;124;43m\"\u001b[39;49m\u001b[38;5;124;43men_core_web_sm\u001b[39;49m\u001b[38;5;124;43m\"\u001b[39;49m\u001b[43m)\u001b[49m\n",
      "File \u001b[1;32m~\\anaconda3\\envs\\MaverickAI\\lib\\site-packages\\spacy\\__init__.py:51\u001b[0m, in \u001b[0;36mload\u001b[1;34m(name, vocab, disable, enable, exclude, config)\u001b[0m\n\u001b[0;32m     27\u001b[0m \u001b[38;5;28;01mdef\u001b[39;00m \u001b[38;5;21mload\u001b[39m(\n\u001b[0;32m     28\u001b[0m     name: Union[\u001b[38;5;28mstr\u001b[39m, Path],\n\u001b[0;32m     29\u001b[0m     \u001b[38;5;241m*\u001b[39m,\n\u001b[1;32m   (...)\u001b[0m\n\u001b[0;32m     34\u001b[0m     config: Union[Dict[\u001b[38;5;28mstr\u001b[39m, Any], Config] \u001b[38;5;241m=\u001b[39m util\u001b[38;5;241m.\u001b[39mSimpleFrozenDict(),\n\u001b[0;32m     35\u001b[0m ) \u001b[38;5;241m-\u001b[39m\u001b[38;5;241m>\u001b[39m Language:\n\u001b[0;32m     36\u001b[0m \u001b[38;5;250m    \u001b[39m\u001b[38;5;124;03m\"\"\"Load a spaCy model from an installed package or a local path.\u001b[39;00m\n\u001b[0;32m     37\u001b[0m \n\u001b[0;32m     38\u001b[0m \u001b[38;5;124;03m    name (str): Package name or model path.\u001b[39;00m\n\u001b[1;32m   (...)\u001b[0m\n\u001b[0;32m     49\u001b[0m \u001b[38;5;124;03m    RETURNS (Language): The loaded nlp object.\u001b[39;00m\n\u001b[0;32m     50\u001b[0m \u001b[38;5;124;03m    \"\"\"\u001b[39;00m\n\u001b[1;32m---> 51\u001b[0m     \u001b[38;5;28;01mreturn\u001b[39;00m \u001b[43mutil\u001b[49m\u001b[38;5;241;43m.\u001b[39;49m\u001b[43mload_model\u001b[49m\u001b[43m(\u001b[49m\n\u001b[0;32m     52\u001b[0m \u001b[43m        \u001b[49m\u001b[43mname\u001b[49m\u001b[43m,\u001b[49m\n\u001b[0;32m     53\u001b[0m \u001b[43m        \u001b[49m\u001b[43mvocab\u001b[49m\u001b[38;5;241;43m=\u001b[39;49m\u001b[43mvocab\u001b[49m\u001b[43m,\u001b[49m\n\u001b[0;32m     54\u001b[0m \u001b[43m        \u001b[49m\u001b[43mdisable\u001b[49m\u001b[38;5;241;43m=\u001b[39;49m\u001b[43mdisable\u001b[49m\u001b[43m,\u001b[49m\n\u001b[0;32m     55\u001b[0m \u001b[43m        \u001b[49m\u001b[43menable\u001b[49m\u001b[38;5;241;43m=\u001b[39;49m\u001b[43menable\u001b[49m\u001b[43m,\u001b[49m\n\u001b[0;32m     56\u001b[0m \u001b[43m        \u001b[49m\u001b[43mexclude\u001b[49m\u001b[38;5;241;43m=\u001b[39;49m\u001b[43mexclude\u001b[49m\u001b[43m,\u001b[49m\n\u001b[0;32m     57\u001b[0m \u001b[43m        \u001b[49m\u001b[43mconfig\u001b[49m\u001b[38;5;241;43m=\u001b[39;49m\u001b[43mconfig\u001b[49m\u001b[43m,\u001b[49m\n\u001b[0;32m     58\u001b[0m \u001b[43m    \u001b[49m\u001b[43m)\u001b[49m\n",
      "File \u001b[1;32m~\\anaconda3\\envs\\MaverickAI\\lib\\site-packages\\spacy\\util.py:472\u001b[0m, in \u001b[0;36mload_model\u001b[1;34m(name, vocab, disable, enable, exclude, config)\u001b[0m\n\u001b[0;32m    470\u001b[0m \u001b[38;5;28;01mif\u001b[39;00m name \u001b[38;5;129;01min\u001b[39;00m OLD_MODEL_SHORTCUTS:\n\u001b[0;32m    471\u001b[0m     \u001b[38;5;28;01mraise\u001b[39;00m \u001b[38;5;167;01mIOError\u001b[39;00m(Errors\u001b[38;5;241m.\u001b[39mE941\u001b[38;5;241m.\u001b[39mformat(name\u001b[38;5;241m=\u001b[39mname, full\u001b[38;5;241m=\u001b[39mOLD_MODEL_SHORTCUTS[name]))  \u001b[38;5;66;03m# type: ignore[index]\u001b[39;00m\n\u001b[1;32m--> 472\u001b[0m \u001b[38;5;28;01mraise\u001b[39;00m \u001b[38;5;167;01mIOError\u001b[39;00m(Errors\u001b[38;5;241m.\u001b[39mE050\u001b[38;5;241m.\u001b[39mformat(name\u001b[38;5;241m=\u001b[39mname))\n",
      "\u001b[1;31mOSError\u001b[0m: [E050] Can't find model 'en_core_web_sm'. It doesn't seem to be a Python package or a valid path to a data directory."
     ]
    }
   ],
   "source": [
    "\n"
   ]
  },
  {
   "cell_type": "code",
   "execution_count": null,
   "id": "d91771d8",
   "metadata": {},
   "outputs": [],
   "source": []
  }
 ],
 "metadata": {
  "kernelspec": {
   "display_name": "MaverickAI",
   "language": "python",
   "name": "maverickai"
  },
  "language_info": {
   "codemirror_mode": {
    "name": "ipython",
    "version": 3
   },
   "file_extension": ".py",
   "mimetype": "text/x-python",
   "name": "python",
   "nbconvert_exporter": "python",
   "pygments_lexer": "ipython3",
   "version": "3.10.9"
  }
 },
 "nbformat": 4,
 "nbformat_minor": 5
}
